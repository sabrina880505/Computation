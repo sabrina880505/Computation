{
  "nbformat": 4,
  "nbformat_minor": 0,
  "metadata": {
    "colab": {
      "name": "A106260082-Week9.ipynb",
      "provenance": [],
      "collapsed_sections": [],
      "include_colab_link": true
    },
    "kernelspec": {
      "name": "python3",
      "display_name": "Python 3"
    }
  },
  "cells": [
    {
      "cell_type": "markdown",
      "metadata": {
        "id": "view-in-github",
        "colab_type": "text"
      },
      "source": [
        "<a href=\"https://colab.research.google.com/github/sabrina880505/Computation/blob/master/A106260082_Week9.ipynb\" target=\"_parent\"><img src=\"https://colab.research.google.com/assets/colab-badge.svg\" alt=\"Open In Colab\"/></a>"
      ]
    },
    {
      "cell_type": "code",
      "metadata": {
        "id": "J3rH1gerQ247",
        "colab_type": "code",
        "outputId": "89a20109-e05f-4ffc-bb84-70e08b3955db",
        "colab": {
          "base_uri": "https://localhost:8080/",
          "height": 51
        }
      },
      "source": [
        "score = int(input('請輸入一個成績?'))\n",
        "if score >=60:\n",
        "      print('好棒棒啊~繼續加加油呦~~')\n",
        "    "
      ],
      "execution_count": 0,
      "outputs": [
        {
          "output_type": "stream",
          "text": [
            "請輸入一個成績?95\n",
            "好棒棒啊~繼續加加油呦~~\n"
          ],
          "name": "stdout"
        }
      ]
    },
    {
      "cell_type": "code",
      "metadata": {
        "id": "SHrZwjQFgjs6",
        "colab_type": "code",
        "outputId": "b1a5d7e7-b5f4-4068-8875-d327edfa7c46",
        "colab": {
          "base_uri": "https://localhost:8080/",
          "height": 51
        }
      },
      "source": [
        "score = int(input('請輸入一個成績?'))\n",
        "if score >=60:\n",
        "    print('挖塞~竟然及格了!!')\n",
        "else:\n",
        "    print('齁~你沒有及格ㄝ!')    "
      ],
      "execution_count": 0,
      "outputs": [
        {
          "output_type": "stream",
          "text": [
            "請輸入一個成績?50\n",
            "齁~你沒有及格ㄝ!\n"
          ],
          "name": "stdout"
        }
      ]
    },
    {
      "cell_type": "code",
      "metadata": {
        "id": "KqghBJW5hWsf",
        "colab_type": "code",
        "outputId": "a7441c6f-6fd4-4f66-c970-800479e37b03",
        "colab": {
          "base_uri": "https://localhost:8080/",
          "height": 51
        }
      },
      "source": [
        "score = int(input('請輸入一個成績?'))\n",
        "if score >=80:\n",
        "   print('推推喔~')\n",
        "elif score >=60:\n",
        "   print('唉呦，還可以喔~') \n",
        "else:\n",
        "     print('你很不OK喔!')  "
      ],
      "execution_count": 0,
      "outputs": [
        {
          "output_type": "stream",
          "text": [
            "請輸入一個成績?50\n",
            "你很不OK喔!\n"
          ],
          "name": "stdout"
        }
      ]
    },
    {
      "cell_type": "code",
      "metadata": {
        "id": "io9i9PriicE2",
        "colab_type": "code",
        "outputId": "78d8f501-977e-4df3-a8bc-6d08528e52f8",
        "colab": {
          "base_uri": "https://localhost:8080/",
          "height": 68
        }
      },
      "source": [
        "x= float(input('請輸入該點的X座標?'))\n",
        "y= float(input('請輸入該點的Y座標?'))\n",
        "\n",
        "if (x>0):\n",
        "  if(y>0):\n",
        "    print('該點在第一象限!')\n",
        "  else:\n",
        "    print('該點在第四象限!') \n",
        "else:\n",
        "  if(y>0):\n",
        "    print('該點在第二象限!')\n",
        "  else:\n",
        "    print('該點在第三象限!')       \n"
      ],
      "execution_count": 0,
      "outputs": [
        {
          "output_type": "stream",
          "text": [
            "請輸入該點的X座標?1\n",
            "請輸入該點的Y座標?1\n",
            "該點在第一象限!\n"
          ],
          "name": "stdout"
        }
      ]
    },
    {
      "cell_type": "code",
      "metadata": {
        "id": "UyjAmZ9oki2D",
        "colab_type": "code",
        "outputId": "5e56be4d-e9ee-4318-f074-b93122feeda3",
        "colab": {
          "base_uri": "https://localhost:8080/",
          "height": 51
        }
      },
      "source": [
        "money=int(input('請輸入一個金額?'))\n",
        "\n",
        "if money >=2000:\n",
        "  print(money*0.9)\n",
        "else:\n",
        "      print(money)"
      ],
      "execution_count": 0,
      "outputs": [
        {
          "output_type": "stream",
          "text": [
            "請輸入一個金額?2000\n",
            "1800.0\n"
          ],
          "name": "stdout"
        }
      ]
    },
    {
      "cell_type": "code",
      "metadata": {
        "id": "qjql4qjimasi",
        "colab_type": "code",
        "outputId": "62d6abff-2945-4fe9-c137-f7ef12f31d44",
        "colab": {
          "base_uri": "https://localhost:8080/",
          "height": 51
        }
      },
      "source": [
        "n=int(input('輸入一個數字?'))\n",
        "if n%2==1:\n",
        "  print(n,'為奇數')\n",
        "else:\n",
        "  print(n,'為偶數')  "
      ],
      "execution_count": 0,
      "outputs": [
        {
          "output_type": "stream",
          "text": [
            "輸入一個數字?5\n",
            "5 為奇數\n"
          ],
          "name": "stdout"
        }
      ]
    },
    {
      "cell_type": "code",
      "metadata": {
        "id": "gVbaKJIMnZZ_",
        "colab_type": "code",
        "colab": {}
      },
      "source": [
        ""
      ],
      "execution_count": 0,
      "outputs": []
    }
  ]
}