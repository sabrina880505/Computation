{
  "nbformat": 4,
  "nbformat_minor": 0,
  "metadata": {
    "colab": {
      "name": "Week11-A106260082.ipynb",
      "provenance": [],
      "include_colab_link": true
    },
    "kernelspec": {
      "name": "python3",
      "display_name": "Python 3"
    }
  },
  "cells": [
    {
      "cell_type": "markdown",
      "metadata": {
        "id": "view-in-github",
        "colab_type": "text"
      },
      "source": [
        "<a href=\"https://colab.research.google.com/github/sabrina880505/Computation/blob/master/Week11_A106260082.ipynb\" target=\"_parent\"><img src=\"https://colab.research.google.com/assets/colab-badge.svg\" alt=\"Open In Colab\"/></a>"
      ]
    },
    {
      "cell_type": "code",
      "metadata": {
        "id": "Rg-twURQrPoN",
        "colab_type": "code",
        "colab": {}
      },
      "source": [
        "#選擇題練習\n",
        "#PDF1\n",
        "#B\n",
        "#B\n",
        "#B\n",
        "#C\n",
        "#B\n",
        "#D\n",
        "\n",
        "#PDF2\n",
        "#A\n",
        "#A\n",
        "#B\n",
        "#D\n",
        "#A\n"
      ],
      "execution_count": 0,
      "outputs": []
    }
  ]
}