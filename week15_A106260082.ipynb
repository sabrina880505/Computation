{
  "nbformat": 4,
  "nbformat_minor": 0,
  "metadata": {
    "colab": {
      "name": "week15-A106260082.ipynb",
      "provenance": [],
      "include_colab_link": true
    },
    "kernelspec": {
      "name": "python3",
      "display_name": "Python 3"
    }
  },
  "cells": [
    {
      "cell_type": "markdown",
      "metadata": {
        "id": "view-in-github",
        "colab_type": "text"
      },
      "source": [
        "<a href=\"https://colab.research.google.com/github/sabrina880505/Computation/blob/master/week15_A106260082.ipynb\" target=\"_parent\"><img src=\"https://colab.research.google.com/assets/colab-badge.svg\" alt=\"Open In Colab\"/></a>"
      ]
    },
    {
      "cell_type": "code",
      "metadata": {
        "id": "PWwMbQg8qccN",
        "colab_type": "code",
        "colab": {
          "base_uri": "https://localhost:8080/",
          "height": 102
        },
        "outputId": "c1002ed0-c350-4fd7-a80d-dedadc30000a"
      },
      "source": [
        "n=1\n",
        "while n<5:\n",
        "  print(\"n is :\",n)\n",
        "  n=n+1\n",
        "print(\"Finished\")  \n"
      ],
      "execution_count": 1,
      "outputs": [
        {
          "output_type": "stream",
          "text": [
            "n is : 1\n",
            "n is : 2\n",
            "n is : 3\n",
            "n is : 4\n",
            "Finished\n"
          ],
          "name": "stdout"
        }
      ]
    },
    {
      "cell_type": "code",
      "metadata": {
        "id": "TQcHunngrhA6",
        "colab_type": "code",
        "colab": {
          "base_uri": "https://localhost:8080/",
          "height": 187
        },
        "outputId": "60bcbebb-55f0-480f-fdd7-e8047e7b1a99"
      },
      "source": [
        "x=0\n",
        "while x<10:\n",
        "  print(\"Monkichi\")\n",
        "  x=x+1"
      ],
      "execution_count": 4,
      "outputs": [
        {
          "output_type": "stream",
          "text": [
            "Monkichi\n",
            "Monkichi\n",
            "Monkichi\n",
            "Monkichi\n",
            "Monkichi\n",
            "Monkichi\n",
            "Monkichi\n",
            "Monkichi\n",
            "Monkichi\n",
            "Monkichi\n"
          ],
          "name": "stdout"
        }
      ]
    },
    {
      "cell_type": "code",
      "metadata": {
        "id": "6EDTqWictbxU",
        "colab_type": "code",
        "colab": {
          "base_uri": "https://localhost:8080/",
          "height": 187
        },
        "outputId": "28874fd4-8fe2-4486-fa40-f6837fa14340"
      },
      "source": [
        "times=1\n",
        "while times<11:\n",
        "  print(\"THIS IS NO.\",times,\"Monkichi\")\n",
        "  times=times+1"
      ],
      "execution_count": 5,
      "outputs": [
        {
          "output_type": "stream",
          "text": [
            "THIS IS NO. 1 Monkichi\n",
            "THIS IS NO. 2 Monkichi\n",
            "THIS IS NO. 3 Monkichi\n",
            "THIS IS NO. 4 Monkichi\n",
            "THIS IS NO. 5 Monkichi\n",
            "THIS IS NO. 6 Monkichi\n",
            "THIS IS NO. 7 Monkichi\n",
            "THIS IS NO. 8 Monkichi\n",
            "THIS IS NO. 9 Monkichi\n",
            "THIS IS NO. 10 Monkichi\n"
          ],
          "name": "stdout"
        }
      ]
    },
    {
      "cell_type": "code",
      "metadata": {
        "id": "3SaqBTAUwFwx",
        "colab_type": "code",
        "colab": {
          "base_uri": "https://localhost:8080/",
          "height": 34
        },
        "outputId": "15f39ed7-a9b3-4c79-830c-06fe12efca88"
      },
      "source": [
        "x=0\n",
        "result=0\n",
        "\n",
        "while x<10:\n",
        "  x=x+1\n",
        "  result=result + x\n",
        "print(\"The answer is\",result)"
      ],
      "execution_count": 7,
      "outputs": [
        {
          "output_type": "stream",
          "text": [
            "The answer is 55\n"
          ],
          "name": "stdout"
        }
      ]
    },
    {
      "cell_type": "code",
      "metadata": {
        "id": "WmgYjuofwxWt",
        "colab_type": "code",
        "colab": {
          "base_uri": "https://localhost:8080/",
          "height": 34
        },
        "outputId": "59147f08-1981-4f6e-9920-aa514250b22c"
      },
      "source": [
        "x=0\n",
        "result=0\n",
        "while result <=50:\n",
        "  x=x+1\n",
        "  result=result+x\n",
        "print(\"The last X is\",x)  "
      ],
      "execution_count": 8,
      "outputs": [
        {
          "output_type": "stream",
          "text": [
            "The last X is 10\n"
          ],
          "name": "stdout"
        }
      ]
    },
    {
      "cell_type": "code",
      "metadata": {
        "id": "5czesTRqxrUQ",
        "colab_type": "code",
        "colab": {
          "base_uri": "https://localhost:8080/",
          "height": 34
        },
        "outputId": "909c0be7-b017-4c68-f50b-2b613ed11deb"
      },
      "source": [
        "sum=0\n",
        "x=1\n",
        "while x<10:\n",
        "  sum=sum+x\n",
        "  x=x+2\n",
        "  \n",
        "print(\"The answer is\",sum)  \n"
      ],
      "execution_count": 21,
      "outputs": [
        {
          "output_type": "stream",
          "text": [
            "The answer is 25\n"
          ],
          "name": "stdout"
        }
      ]
    },
    {
      "cell_type": "code",
      "metadata": {
        "id": "FISfYyYazCJm",
        "colab_type": "code",
        "colab": {
          "base_uri": "https://localhost:8080/",
          "height": 34
        },
        "outputId": "5095c62a-3bfa-4acc-cd88-75eeab1f327e"
      },
      "source": [
        "sum=0\n",
        "x=0\n",
        "while sum<=1000:\n",
        "  x+=1\n",
        "  sum+=x*x\n",
        "print('The answer is',x)  "
      ],
      "execution_count": 20,
      "outputs": [
        {
          "output_type": "stream",
          "text": [
            "The answer is 14\n"
          ],
          "name": "stdout"
        }
      ]
    },
    {
      "cell_type": "code",
      "metadata": {
        "id": "8zMdPbR01LZD",
        "colab_type": "code",
        "colab": {}
      },
      "source": [
        ""
      ],
      "execution_count": 0,
      "outputs": []
    }
  ]
}