{
  "nbformat": 4,
  "nbformat_minor": 0,
  "metadata": {
    "colab": {
      "name": "Week8-A106260082.ipynb",
      "provenance": [],
      "include_colab_link": true
    },
    "kernelspec": {
      "name": "python3",
      "display_name": "Python 3"
    }
  },
  "cells": [
    {
      "cell_type": "markdown",
      "metadata": {
        "id": "view-in-github",
        "colab_type": "text"
      },
      "source": [
        "<a href=\"https://colab.research.google.com/github/sabrina880505/Computation/blob/master/Week8_A106260082.ipynb\" target=\"_parent\"><img src=\"https://colab.research.google.com/assets/colab-badge.svg\" alt=\"Open In Colab\"/></a>"
      ]
    },
    {
      "cell_type": "code",
      "metadata": {
        "id": "wyCcIgE0PEJe",
        "colab_type": "code",
        "colab": {
          "base_uri": "https://localhost:8080/",
          "height": 68
        },
        "outputId": "8d819057-0518-4032-8d6a-076201949916"
      },
      "source": [
        "print(\"Welcome to the Mashup Game!\")\n",
        "name1=input(\"Enter one full name(FIRST LAST ):\")\n",
        "name2=input(\"Enter another full name(FIRST LAST):\")"
      ],
      "execution_count": 4,
      "outputs": [
        {
          "output_type": "stream",
          "text": [
            "Welcome to the Mashup Game!\n",
            "Enter one full name(FIRST LAST ):Sabrina Chiang\n",
            "Enter another full name(FIRST LAST):Howard Zhang\n"
          ],
          "name": "stdout"
        }
      ]
    },
    {
      "cell_type": "code",
      "metadata": {
        "id": "ImaNr8DaWZAu",
        "colab_type": "code",
        "colab": {
          "base_uri": "https://localhost:8080/",
          "height": 85
        },
        "outputId": "602b89b4-fca7-4f52-ba01-1167ec4ed786"
      },
      "source": [
        "space=name1.find(\" \")\n",
        "name1_first =name1[0:space]\n",
        "name1_last =name1[space+1:len(name1)]\n",
        "space =name2.find(\" \")\n",
        "name2_first = name2[0:space]\n",
        "name2_last =name2[space+1:len(name2)]\n",
        "\n",
        "print(name1_first)\n",
        "print(name1_last)\n",
        "print(name2_first)\n",
        "print(name2_last)"
      ],
      "execution_count": 5,
      "outputs": [
        {
          "output_type": "stream",
          "text": [
            "Sabrina\n",
            "Chiang\n",
            "Howard\n",
            "Zhang\n"
          ],
          "name": "stdout"
        }
      ]
    },
    {
      "cell_type": "code",
      "metadata": {
        "id": "u-0DKepsa5vG",
        "colab_type": "code",
        "colab": {}
      },
      "source": [
        "len_name1_first = len(name1_first)\n",
        "len_name2_first = len(name2_first)\n",
        "len_name1_last = len(name1_last)\n",
        "len_name2_last = len(name2_last)\n",
        "index_name1_first = int(len_name1_first/2)\n",
        "index_name2_first = int(len_name2_first/2)\n",
        "index_name1_last = int(len_name1_last/2)\n",
        "index_name2_last = int(len_name2_last/2)"
      ],
      "execution_count": 0,
      "outputs": []
    },
    {
      "cell_type": "code",
      "metadata": {
        "id": "qurN2fa1ZLo_",
        "colab_type": "code",
        "colab": {}
      },
      "source": [
        "lefthalf_name1_first = name1_first[0:index_name1_first]\n",
        "righthalf_name1_first =name1_first[index_name1_first:len_name1_first]\n",
        "lefthalf_name2_first = name2_first[0:index_name2_first]\n",
        "righthalf_name2_first = name2_first[index_name2_first:len_name2_first]\n",
        "\n",
        "lefthalf_name1_last = name1_last[0:index_name1_last]\n",
        "righthalf_name1_last = name1_last[index_name1_last:len_name1_last]\n",
        "\n",
        "lefthalf_name2_last = name2_last[0:index_name2_last]\n",
        "righthalf_name2_last = name2_last[index_name2_last:len_name2_last]\n",
        "\n"
      ],
      "execution_count": 0,
      "outputs": []
    },
    {
      "cell_type": "code",
      "metadata": {
        "id": "E15bf2DhctzE",
        "colab_type": "code",
        "colab": {}
      },
      "source": [
        "newname1_first = lefthalf_name1_first.capitalize() + righthalf_name1_first.lower()\n",
        "newname1_last = lefthalf_name1_last.capitalize() + righthalf_name2_last.lower()\n",
        "newname2_first = lefthalf_name2_first.capitalize() + righthalf_name1_first.lower()\n",
        "newname2_last = lefthalf_name2_last.capitalize() + righthalf_name1_last.lower()"
      ],
      "execution_count": 0,
      "outputs": []
    },
    {
      "cell_type": "code",
      "metadata": {
        "id": "cJdz1JqyeU5K",
        "colab_type": "code",
        "colab": {
          "base_uri": "https://localhost:8080/",
          "height": 68
        },
        "outputId": "7e36e825-00c0-4476-d584-68be14b2ca8c"
      },
      "source": [
        "print(\"All done! Here are two possibilities, pick the one you like best!\")\n",
        "print(newname1_first, newname1_last)\n",
        "print(newname2_first, newname2_last)"
      ],
      "execution_count": 13,
      "outputs": [
        {
          "output_type": "stream",
          "text": [
            "All done! Here are two possibilities, pick the one you like best!\n",
            "Sabrina Chiang\n",
            "Howrina Zhang\n"
          ],
          "name": "stdout"
        }
      ]
    },
    {
      "cell_type": "code",
      "metadata": {
        "id": "p1w8KH07fbQJ",
        "colab_type": "code",
        "colab": {
          "base_uri": "https://localhost:8080/",
          "height": 85
        },
        "outputId": "d47a6589-3a48-4d27-be15-825025a6db4d"
      },
      "source": [
        "#自我檢核\n",
        "\n",
        "test=input(\"請輸入一行英文句子?\")\n",
        "test1=test.split(' ')\n",
        "print('將英文句子以空白字元切割後，獲得單字為',test1)\n",
        "\n",
        "test2=' '.join(test1)\n",
        "print('以空白字元結合所有單字後，獲得句子為',test2)\n",
        "\n",
        "test3 = test.title()\n",
        "print('將每個單字字首轉大寫後，獲得句子為',test3)"
      ],
      "execution_count": 16,
      "outputs": [
        {
          "output_type": "stream",
          "text": [
            "請輸入一行英文句子?an apple a day keeps the doctor away\n",
            "將英文句子以空白字元切割後，獲得單字為 ['an', 'apple', 'a', 'day', 'keeps', 'the', 'doctor', 'away']\n",
            "以空白字元結合所有單字後，獲得句子為 an apple a day keeps the doctor away\n",
            "將每個單字字首轉大寫後，獲得句子為 An Apple A Day Keeps The Doctor Away\n"
          ],
          "name": "stdout"
        }
      ]
    },
    {
      "cell_type": "code",
      "metadata": {
        "id": "cm_ygIIqkGIx",
        "colab_type": "code",
        "colab": {}
      },
      "source": [
        ""
      ],
      "execution_count": 0,
      "outputs": []
    }
  ]
}