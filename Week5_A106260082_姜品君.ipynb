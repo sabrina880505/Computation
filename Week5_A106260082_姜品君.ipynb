{
  "nbformat": 4,
  "nbformat_minor": 0,
  "metadata": {
    "colab": {
      "name": "Week5-A106260082-姜品君.ipynb",
      "provenance": [],
      "collapsed_sections": [],
      "include_colab_link": true
    },
    "kernelspec": {
      "name": "python3",
      "display_name": "Python 3"
    }
  },
  "cells": [
    {
      "cell_type": "markdown",
      "metadata": {
        "id": "view-in-github",
        "colab_type": "text"
      },
      "source": [
        "<a href=\"https://colab.research.google.com/github/sabrina880505/Computation/blob/master/Week5_A106260082_%E5%A7%9C%E5%93%81%E5%90%9B.ipynb\" target=\"_parent\"><img src=\"https://colab.research.google.com/assets/colab-badge.svg\" alt=\"Open In Colab\"/></a>"
      ]
    },
    {
      "cell_type": "code",
      "metadata": {
        "id": "z_FUB4_rGC4v",
        "colab_type": "code",
        "colab": {
          "base_uri": "https://localhost:8080/",
          "height": 165
        },
        "outputId": "64c45868-aeeb-47f5-a456-c2311deb30f1"
      },
      "source": [
        "print(a)"
      ],
      "execution_count": 1,
      "outputs": [
        {
          "output_type": "error",
          "ename": "NameError",
          "evalue": "ignored",
          "traceback": [
            "\u001b[0;31m---------------------------------------------------------------------------\u001b[0m",
            "\u001b[0;31mNameError\u001b[0m                                 Traceback (most recent call last)",
            "\u001b[0;32m<ipython-input-1-bca0e2660b9f>\u001b[0m in \u001b[0;36m<module>\u001b[0;34m()\u001b[0m\n\u001b[0;32m----> 1\u001b[0;31m \u001b[0mprint\u001b[0m\u001b[0;34m(\u001b[0m\u001b[0ma\u001b[0m\u001b[0;34m)\u001b[0m\u001b[0;34m\u001b[0m\u001b[0;34m\u001b[0m\u001b[0m\n\u001b[0m",
            "\u001b[0;31mNameError\u001b[0m: name 'a' is not defined"
          ]
        }
      ]
    },
    {
      "cell_type": "code",
      "metadata": {
        "id": "_9rUGSHONgGG",
        "colab_type": "code",
        "colab": {
          "base_uri": "https://localhost:8080/",
          "height": 34
        },
        "outputId": "9ccfdadf-1ede-47fe-ccce-35fbac5c3318"
      },
      "source": [
        "a=1\n",
        "a"
      ],
      "execution_count": 6,
      "outputs": [
        {
          "output_type": "execute_result",
          "data": {
            "text/plain": [
              "1"
            ]
          },
          "metadata": {
            "tags": []
          },
          "execution_count": 6
        }
      ]
    },
    {
      "cell_type": "code",
      "metadata": {
        "id": "a6sbyOp4Npq3",
        "colab_type": "code",
        "colab": {
          "base_uri": "https://localhost:8080/",
          "height": 34
        },
        "outputId": "1f88b5dc-4ea3-4097-d115-2f29a791096a"
      },
      "source": [
        "a=\"Python\"\n",
        "a"
      ],
      "execution_count": 7,
      "outputs": [
        {
          "output_type": "execute_result",
          "data": {
            "text/plain": [
              "'Python'"
            ]
          },
          "metadata": {
            "tags": []
          },
          "execution_count": 7
        }
      ]
    },
    {
      "cell_type": "code",
      "metadata": {
        "id": "mGTd2L2NNzKS",
        "colab_type": "code",
        "colab": {}
      },
      "source": [
        "a=123\n",
        "b=123.456\n",
        "c=\"Python\"\n",
        "d=False\n"
      ],
      "execution_count": 0,
      "outputs": []
    },
    {
      "cell_type": "code",
      "metadata": {
        "id": "1mtGm-kCOJ0n",
        "colab_type": "code",
        "colab": {
          "base_uri": "https://localhost:8080/",
          "height": 51
        },
        "outputId": "476cfa18-5dc9-4f9c-8831-6902c202f550"
      },
      "source": [
        "a=1\n",
        "print(a,id(a))\n",
        "b=\"Python\"\n",
        "print(b,id(b))"
      ],
      "execution_count": 9,
      "outputs": [
        {
          "output_type": "stream",
          "text": [
            "1 10968800\n",
            "Python 139653768735800\n"
          ],
          "name": "stdout"
        }
      ]
    },
    {
      "cell_type": "code",
      "metadata": {
        "id": "-OqYuiJKOvls",
        "colab_type": "code",
        "colab": {
          "base_uri": "https://localhost:8080/",
          "height": 34
        },
        "outputId": "1f9accae-d64f-4954-9a9e-41a70205bb90"
      },
      "source": [
        "x=1\n",
        "y=2\n",
        "print(id(x),id(y))"
      ],
      "execution_count": 10,
      "outputs": [
        {
          "output_type": "stream",
          "text": [
            "10968800 10968832\n"
          ],
          "name": "stdout"
        }
      ]
    },
    {
      "cell_type": "code",
      "metadata": {
        "id": "lNRqNRWjPBZ7",
        "colab_type": "code",
        "colab": {
          "base_uri": "https://localhost:8080/",
          "height": 34
        },
        "outputId": "0b26a5f1-9f98-4d99-fe15-929ebc56fb29"
      },
      "source": [
        "z=1\n",
        "print(id(x),id(z))"
      ],
      "execution_count": 11,
      "outputs": [
        {
          "output_type": "stream",
          "text": [
            "10968800 10968800\n"
          ],
          "name": "stdout"
        }
      ]
    },
    {
      "cell_type": "code",
      "metadata": {
        "id": "l4Klg-PAPKxH",
        "colab_type": "code",
        "colab": {
          "base_uri": "https://localhost:8080/",
          "height": 34
        },
        "outputId": "7021279d-c5e8-41f5-bcb6-266caa3eaf25"
      },
      "source": [
        "import sys\n",
        "x=18\n",
        "sys.getsizeof(x)"
      ],
      "execution_count": 16,
      "outputs": [
        {
          "output_type": "execute_result",
          "data": {
            "text/plain": [
              "28"
            ]
          },
          "metadata": {
            "tags": []
          },
          "execution_count": 16
        }
      ]
    },
    {
      "cell_type": "code",
      "metadata": {
        "id": "FxFK1kIjPZVr",
        "colab_type": "code",
        "colab": {}
      },
      "source": [
        ""
      ],
      "execution_count": 0,
      "outputs": []
    },
    {
      "cell_type": "code",
      "metadata": {
        "id": "174juu5fPzUc",
        "colab_type": "code",
        "colab": {
          "base_uri": "https://localhost:8080/",
          "height": 187
        },
        "outputId": "625f9982-90e6-46d0-c34f-4b9b12c324dd"
      },
      "source": [
        "print(False)\n",
        "print(True)\n",
        "print(False+3)\n",
        "print(False==0)\n",
        "print(True==1)\n",
        "\n",
        "print(False,type(False))\n",
        "print(True+1,type(True+1))\n",
        "\n",
        "print(bool(1))\n",
        "print(bool(0))\n",
        "print(bool(()))"
      ],
      "execution_count": 20,
      "outputs": [
        {
          "output_type": "stream",
          "text": [
            "False\n",
            "True\n",
            "3\n",
            "True\n",
            "True\n",
            "False <class 'bool'>\n",
            "2 <class 'int'>\n",
            "True\n",
            "False\n",
            "False\n"
          ],
          "name": "stdout"
        }
      ]
    },
    {
      "cell_type": "code",
      "metadata": {
        "id": "0okIsxu9QdOa",
        "colab_type": "code",
        "colab": {
          "base_uri": "https://localhost:8080/",
          "height": 102
        },
        "outputId": "b230d217-d371-45d7-f672-f3aed67a81f9"
      },
      "source": [
        "a=100\n",
        "b=100.001\n",
        "\n",
        "print(type(100))\n",
        "print(type(100.001))\n",
        "\n",
        "print(int(100))\n",
        "print(float(100.001))\n",
        "print(0.1+0.1+0.1)"
      ],
      "execution_count": 21,
      "outputs": [
        {
          "output_type": "stream",
          "text": [
            "<class 'int'>\n",
            "<class 'float'>\n",
            "100\n",
            "100.001\n",
            "0.30000000000000004\n"
          ],
          "name": "stdout"
        }
      ]
    },
    {
      "cell_type": "code",
      "metadata": {
        "id": "ABcmupphROAK",
        "colab_type": "code",
        "colab": {
          "base_uri": "https://localhost:8080/",
          "height": 153
        },
        "outputId": "52577643-c83d-4756-99c0-82f828de4a0b"
      },
      "source": [
        "s1='春眠不覺曉，處處聞啼鳥'\n",
        "print(s1)\n",
        "\n",
        "s2=\"夜來風雨聲，花落知多少\"\n",
        "print(s2)\n",
        "\n",
        "s3='作者\"孟浩然\" 詩名\"春曉\"'\n",
        "print(s3)\n",
        "s4=\"作者'孟浩然'  詩名'春曉'\"\n",
        "print(s4)\n",
        "s5='''   春眠不覺曉，處處聞啼鳥。\n",
        "    夜來風雨聲，花落知多少。\n",
        "    作者\"孟浩然\" 詩名\"春曉\"\n",
        "''' \n",
        "\n",
        "print(s5)"
      ],
      "execution_count": 23,
      "outputs": [
        {
          "output_type": "stream",
          "text": [
            "春眠不覺曉，處處聞啼鳥\n",
            "夜來風雨聲，花落知多少\n",
            "作者\"孟浩然\" 詩名\"春曉\"\n",
            "作者'孟浩然'  詩名'春曉'\n",
            "   春眠不覺曉，處處聞啼鳥。\n",
            "    夜來風雨聲，花落知多少。\n",
            "    作者\"孟浩然\" 詩名\"春曉\"\n",
            "\n"
          ],
          "name": "stdout"
        }
      ]
    },
    {
      "cell_type": "code",
      "metadata": {
        "id": "HeQsKGANTPeK",
        "colab_type": "code",
        "colab": {
          "base_uri": "https://localhost:8080/",
          "height": 68
        },
        "outputId": "4da324b2-df85-45ed-cad8-b32573a0d18e"
      },
      "source": [
        "a=123\n",
        "b=123.456\n",
        "\n",
        "print(a)\n",
        "print(\"b=\",b)\n",
        "print(a,b,end='.')"
      ],
      "execution_count": 24,
      "outputs": [
        {
          "output_type": "stream",
          "text": [
            "123\n",
            "b= 123.456\n",
            "123 123.456."
          ],
          "name": "stdout"
        }
      ]
    },
    {
      "cell_type": "code",
      "metadata": {
        "id": "l_C3MzV6T8th",
        "colab_type": "code",
        "colab": {
          "base_uri": "https://localhost:8080/",
          "height": 85
        },
        "outputId": "d115155d-9f8d-41a2-d118-67c1cecc679e"
      },
      "source": [
        "print(\"姜品君\")\n",
        "print(\"姜品君 \\n 姜品君\")\n",
        "print(\"姜品君 \\t 姜品君\")"
      ],
      "execution_count": 26,
      "outputs": [
        {
          "output_type": "stream",
          "text": [
            "姜品君\n",
            "姜品君 \n",
            " 姜品君\n",
            "姜品君 \t 姜品君\n"
          ],
          "name": "stdout"
        }
      ]
    },
    {
      "cell_type": "code",
      "metadata": {
        "id": "WubRmYJpUO3I",
        "colab_type": "code",
        "colab": {
          "base_uri": "https://localhost:8080/",
          "height": 51
        },
        "outputId": "78b6de25-9936-4487-a458-a258380a0999"
      },
      "source": [
        "s=input(\"Enter Your Name:\")\n",
        "s"
      ],
      "execution_count": 28,
      "outputs": [
        {
          "output_type": "stream",
          "text": [
            "Enter Your Name:Sabrina\n"
          ],
          "name": "stdout"
        },
        {
          "output_type": "execute_result",
          "data": {
            "text/plain": [
              "'Sabrina'"
            ]
          },
          "metadata": {
            "tags": []
          },
          "execution_count": 28
        }
      ]
    },
    {
      "cell_type": "code",
      "metadata": {
        "id": "e5CvqzfBU_X3",
        "colab_type": "code",
        "colab": {
          "base_uri": "https://localhost:8080/",
          "height": 51
        },
        "outputId": "329bc67d-bd8b-4d9c-f35d-bf6c4f4c356f"
      },
      "source": [
        "s=input(\"Enter Your Name:\")\n",
        "print(\"Hi,\",s)"
      ],
      "execution_count": 29,
      "outputs": [
        {
          "output_type": "stream",
          "text": [
            "Enter Your Name:Sabrina\n",
            "Hi, Sabrina\n"
          ],
          "name": "stdout"
        }
      ]
    },
    {
      "cell_type": "code",
      "metadata": {
        "id": "CnWzW5oRV0YE",
        "colab_type": "code",
        "colab": {
          "base_uri": "https://localhost:8080/",
          "height": 199
        },
        "outputId": "f98f323f-3875-4800-f29b-691f3cd6e320"
      },
      "source": [
        "s=input(\"Enter Your Number:\")\n",
        "print(s+100)"
      ],
      "execution_count": 30,
      "outputs": [
        {
          "output_type": "stream",
          "text": [
            "Enter Your Number:082\n"
          ],
          "name": "stdout"
        },
        {
          "output_type": "error",
          "ename": "TypeError",
          "evalue": "ignored",
          "traceback": [
            "\u001b[0;31m---------------------------------------------------------------------------\u001b[0m",
            "\u001b[0;31mTypeError\u001b[0m                                 Traceback (most recent call last)",
            "\u001b[0;32m<ipython-input-30-0f7188993446>\u001b[0m in \u001b[0;36m<module>\u001b[0;34m()\u001b[0m\n\u001b[1;32m      1\u001b[0m \u001b[0ms\u001b[0m\u001b[0;34m=\u001b[0m\u001b[0minput\u001b[0m\u001b[0;34m(\u001b[0m\u001b[0;34m\"Enter Your Number:\"\u001b[0m\u001b[0;34m)\u001b[0m\u001b[0;34m\u001b[0m\u001b[0;34m\u001b[0m\u001b[0m\n\u001b[0;32m----> 2\u001b[0;31m \u001b[0mprint\u001b[0m\u001b[0;34m(\u001b[0m\u001b[0ms\u001b[0m\u001b[0;34m+\u001b[0m\u001b[0;36m100\u001b[0m\u001b[0;34m)\u001b[0m\u001b[0;34m\u001b[0m\u001b[0;34m\u001b[0m\u001b[0m\n\u001b[0m",
            "\u001b[0;31mTypeError\u001b[0m: must be str, not int"
          ]
        }
      ]
    },
    {
      "cell_type": "code",
      "metadata": {
        "id": "fEX_U4zTWvE8",
        "colab_type": "code",
        "colab": {
          "base_uri": "https://localhost:8080/",
          "height": 153
        },
        "outputId": "22813290-3def-40dd-eaae-488aae4ac30b"
      },
      "source": [
        "s=int(input(\"Enter Your Number:\"))\n",
        "print(100+s)\n",
        "\n",
        "s=float(input(\"Enter Your Number:\"))\n",
        "print(100+s)\n",
        "\n",
        "s=eval(input(\"Enter Your Number:\"))\n",
        "print(100+s)\n",
        "\n",
        "s=eval(input(\"Enter Your Number\"))\n",
        "print(100+s)"
      ],
      "execution_count": 36,
      "outputs": [
        {
          "output_type": "stream",
          "text": [
            "Enter Your Number:123\n",
            "223\n",
            "Enter Your Number:123\n",
            "223.0\n",
            "Enter Your Number:123\n",
            "223\n",
            "Enter Your Number123.0\n",
            "223.0\n"
          ],
          "name": "stdout"
        }
      ]
    },
    {
      "cell_type": "code",
      "metadata": {
        "id": "IwgP4WixX3Ie",
        "colab_type": "code",
        "colab": {}
      },
      "source": [
        "a=1+2"
      ],
      "execution_count": 0,
      "outputs": []
    },
    {
      "cell_type": "code",
      "metadata": {
        "id": "dfrV-spuZISP",
        "colab_type": "code",
        "colab": {
          "base_uri": "https://localhost:8080/",
          "height": 119
        },
        "outputId": "7e258aa8-04bf-41ea-b10e-da5e28b2c40e"
      },
      "source": [
        "print(5<2)\n",
        "print(5<=2)\n",
        "print(5>2)\n",
        "print(5>=2)\n",
        "print(5!=2)\n",
        "print(5==2)"
      ],
      "execution_count": 38,
      "outputs": [
        {
          "output_type": "stream",
          "text": [
            "False\n",
            "False\n",
            "True\n",
            "True\n",
            "True\n",
            "False\n"
          ],
          "name": "stdout"
        }
      ]
    },
    {
      "cell_type": "code",
      "metadata": {
        "id": "yHVghuEiZfgO",
        "colab_type": "code",
        "colab": {
          "base_uri": "https://localhost:8080/",
          "height": 68
        },
        "outputId": "51893886-3553-48bf-951d-719e47f84e70"
      },
      "source": [
        "x=70\n",
        "print((x>60)and(x<80))\n",
        "print((x>60)or(x<80))\n",
        "print(not(x>60))"
      ],
      "execution_count": 39,
      "outputs": [
        {
          "output_type": "stream",
          "text": [
            "True\n",
            "True\n",
            "False\n"
          ],
          "name": "stdout"
        }
      ]
    },
    {
      "cell_type": "code",
      "metadata": {
        "id": "qed7WhyKZ5hB",
        "colab_type": "code",
        "colab": {
          "base_uri": "https://localhost:8080/",
          "height": 102
        },
        "outputId": "d2ede79c-4a8f-4e1c-aee5-b7ad1212b482"
      },
      "source": [
        "x=1\n",
        "y=[1,2,3]\n",
        "print(x in y)\n",
        "print( x not in y)\n",
        "\n",
        "x=[1,2,3]\n",
        "y=[1,2,3]\n",
        "\n",
        "print(id(x),id(y))\n",
        "\n",
        "print(x is y)\n",
        "print(x is not y)"
      ],
      "execution_count": 41,
      "outputs": [
        {
          "output_type": "stream",
          "text": [
            "True\n",
            "False\n",
            "139653206402888 139653206402952\n",
            "False\n",
            "True\n"
          ],
          "name": "stdout"
        }
      ]
    },
    {
      "cell_type": "code",
      "metadata": {
        "id": "LBAqTniLadvQ",
        "colab_type": "code",
        "colab": {}
      },
      "source": [
        ""
      ],
      "execution_count": 0,
      "outputs": []
    }
  ]
}