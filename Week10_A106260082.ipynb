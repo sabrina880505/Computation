{
  "nbformat": 4,
  "nbformat_minor": 0,
  "metadata": {
    "colab": {
      "name": "Week10-A106260082.ipynb",
      "provenance": [],
      "include_colab_link": true
    },
    "kernelspec": {
      "name": "python3",
      "display_name": "Python 3"
    }
  },
  "cells": [
    {
      "cell_type": "markdown",
      "metadata": {
        "id": "view-in-github",
        "colab_type": "text"
      },
      "source": [
        "<a href=\"https://colab.research.google.com/github/sabrina880505/Computation/blob/master/Week10_A106260082.ipynb\" target=\"_parent\"><img src=\"https://colab.research.google.com/assets/colab-badge.svg\" alt=\"Open In Colab\"/></a>"
      ]
    },
    {
      "cell_type": "code",
      "metadata": {
        "id": "HVJ7kWeLLYWZ",
        "colab_type": "code",
        "colab": {
          "base_uri": "https://localhost:8080/",
          "height": 68
        },
        "outputId": "1c20387a-5e5b-4c1e-979b-7927653f21ee"
      },
      "source": [
        "#剪刀石頭布\n",
        "import random\n",
        "\n",
        "my=int(input(\"請出拳 [0] 剪刀 [1] 石頭 [2] 布\"))\n",
        "print(\"我出拳為\", my)\n",
        "\n",
        "computer=random.randint(0,2)\n",
        "print(\"電腦出拳為\", computer)"
      ],
      "execution_count": 1,
      "outputs": [
        {
          "output_type": "stream",
          "text": [
            "請出拳 [0] 剪刀 [1] 石頭 [2] 布2\n",
            "我出拳為 2\n",
            "電腦出拳為 1\n"
          ],
          "name": "stdout"
        }
      ]
    },
    {
      "cell_type": "code",
      "metadata": {
        "id": "9fl8z4xznRrr",
        "colab_type": "code",
        "colab": {
          "base_uri": "https://localhost:8080/",
          "height": 34
        },
        "outputId": "166838c3-43a4-43c7-94a0-81d04d925e79"
      },
      "source": [
        "if my ==0:\n",
        "          if computer==0:\n",
        "            print('平手')\n",
        "          elif computer==1:\n",
        "            print('電腦贏了')\n",
        "          else:\n",
        "            print('你贏了喔~')\n",
        "\n",
        "elif my ==1:\n",
        "          if computer==0:\n",
        "            print('你贏了喔~')\n",
        "          elif computer==1:\n",
        "            print('平手')\n",
        "          else:\n",
        "            print('電腦贏了')\n",
        "\n",
        "else:\n",
        "     if computer ==1:\n",
        "       print('電腦贏了')\n",
        "     elif computer ==2:\n",
        "       print('你贏了喔~')\n",
        "     else:\n",
        "       print('平手')    "
      ],
      "execution_count": 4,
      "outputs": [
        {
          "output_type": "stream",
          "text": [
            "電腦贏了\n"
          ],
          "name": "stdout"
        }
      ]
    },
    {
      "cell_type": "code",
      "metadata": {
        "id": "sOWSkG9PrKhs",
        "colab_type": "code",
        "colab": {
          "base_uri": "https://localhost:8080/",
          "height": 68
        },
        "outputId": "21893bc8-ab46-4bb7-f409-53a641806ef2"
      },
      "source": [
        "#棒打老虎雞吃蟲\n",
        "\n",
        "import random\n",
        "\n",
        "me=int(input(\"請出拳 [0] 蟲 [1] 雞 [2] 老虎 [3] 棒子\"))\n",
        "print(\"你的出拳:\", me)\n",
        "\n",
        "com=random.randint(0, 3)\n",
        "print(\"電腦的出拳:\", com)"
      ],
      "execution_count": 9,
      "outputs": [
        {
          "output_type": "stream",
          "text": [
            "請出拳 [0] 蟲 [1] 雞 [2] 老虎 [3] 棒子2\n",
            "你的出拳: 2\n",
            "電腦的出拳: 3\n"
          ],
          "name": "stdout"
        }
      ]
    },
    {
      "cell_type": "code",
      "metadata": {
        "id": "M9ZdXo9bsznK",
        "colab_type": "code",
        "colab": {
          "base_uri": "https://localhost:8080/",
          "height": 34
        },
        "outputId": "743db07d-4a7f-4aab-8e99-8b69f4d0d85c"
      },
      "source": [
        "if me ==0:\n",
        "          if com==0:\n",
        "            print('平手')\n",
        "          elif com==1:\n",
        "            print('電腦贏了')\n",
        "          else:\n",
        "            print('你贏了喔~')\n",
        "\n",
        "elif me ==1:\n",
        "          if com==0:\n",
        "            print('你贏了喔~')\n",
        "          elif com==1:\n",
        "            print('平手')\n",
        "          else:\n",
        "            print('電腦贏了')\n",
        "elif me ==2:\n",
        "          if com==1:\n",
        "            print('你贏了喔~')\n",
        "          elif com==2:\n",
        "            print('平手')\n",
        "          else:\n",
        "            print('電腦贏了')\n",
        "\n",
        "else:\n",
        "     if com ==0:\n",
        "       print('電腦贏了')\n",
        "     elif com ==2:\n",
        "       print('你贏了喔~')\n",
        "     else:\n",
        "       print('平手')    "
      ],
      "execution_count": 10,
      "outputs": [
        {
          "output_type": "stream",
          "text": [
            "電腦贏了\n"
          ],
          "name": "stdout"
        }
      ]
    },
    {
      "cell_type": "code",
      "metadata": {
        "id": "X0B3kSFuUeI1",
        "colab_type": "code",
        "colab": {
          "base_uri": "https://localhost:8080/",
          "height": 51
        },
        "outputId": "74ca914a-b584-47f7-9261-089c4b0c29f8"
      },
      "source": [
        "#成果檢核\n",
        "#近視判斷\n",
        "\n",
        "eyes =float(input('請輸入眼睛度數?'))\n",
        "\n",
        "if eyes < 0.9:\n",
        "   print('近視')\n",
        "else:\n",
        "   print('視力正常') "
      ],
      "execution_count": 33,
      "outputs": [
        {
          "output_type": "stream",
          "text": [
            "請輸入眼睛度數?0.8\n",
            "近視\n"
          ],
          "name": "stdout"
        }
      ]
    },
    {
      "cell_type": "code",
      "metadata": {
        "id": "FPfy7WruX3-X",
        "colab_type": "code",
        "colab": {
          "base_uri": "https://localhost:8080/",
          "height": 51
        },
        "outputId": "08b0f5cc-f818-47e4-a83b-036b78578f55"
      },
      "source": [
        "#閏年\n",
        "\n",
        "year=int(input(\"請輸入年份?\"))\n",
        "\n",
        "if year%4==0:\n",
        "   print(year,'是閏年')\n",
        "elif year%400==0:\n",
        "   print(year,'是閏年') \n",
        "elif year%100==0:\n",
        "   print(year,'不是閏年') \n",
        "else :\n",
        "   print(year,'不是閏年')\n"
      ],
      "execution_count": 35,
      "outputs": [
        {
          "output_type": "stream",
          "text": [
            "請輸入年份?2012\n",
            "2012 是閏年\n"
          ],
          "name": "stdout"
        }
      ]
    },
    {
      "cell_type": "code",
      "metadata": {
        "id": "g44qzBrcbUmT",
        "colab_type": "code",
        "colab": {
          "base_uri": "https://localhost:8080/",
          "height": 51
        },
        "outputId": "4c54cf41-a66a-4cbf-eecd-85561af3a958"
      },
      "source": [
        "#加分 郵資\n",
        "\n",
        "mail=int(input('請輸入重量:'))\n",
        "\n",
        "if mail<=5:\n",
        "   print('50')\n",
        "elif 5<mail<=10:\n",
        "   print('70') \n",
        "elif 10<mail<=15:\n",
        "   print('90') \n",
        "elif 15<mail<=20:\n",
        "   print('110') \n",
        "\n",
        "else :\n",
        "   print('無法寄送')\n",
        "\n"
      ],
      "execution_count": 36,
      "outputs": [
        {
          "output_type": "stream",
          "text": [
            "請輸入重量:14\n",
            "90\n"
          ],
          "name": "stdout"
        }
      ]
    },
    {
      "cell_type": "code",
      "metadata": {
        "id": "oZ3Q3hkpe-QU",
        "colab_type": "code",
        "colab": {
          "base_uri": "https://localhost:8080/",
          "height": 51
        },
        "outputId": "e25150bd-8343-416e-bce7-a563847f7871"
      },
      "source": [
        "#體溫與發燒\n",
        "\n",
        "body=float(input('請輸入體溫?'))\n",
        "\n",
        "if body<36:\n",
        "   print('體溫過低')\n",
        "elif 36<=body<38:\n",
        "   print('體溫正常')\n",
        "elif 38<=body<39:\n",
        "   print('體溫有點燒')\n",
        "else:\n",
        "   print('體溫很燒')"
      ],
      "execution_count": 38,
      "outputs": [
        {
          "output_type": "stream",
          "text": [
            "請輸入體溫?36.5\n",
            "體溫正常\n"
          ],
          "name": "stdout"
        }
      ]
    },
    {
      "cell_type": "code",
      "metadata": {
        "id": "6clrPtppf_rt",
        "colab_type": "code",
        "colab": {}
      },
      "source": [
        ""
      ],
      "execution_count": 0,
      "outputs": []
    }
  ]
}