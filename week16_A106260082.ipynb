{
  "nbformat": 4,
  "nbformat_minor": 0,
  "metadata": {
    "colab": {
      "name": "week16-A106260082.ipynb",
      "provenance": [],
      "include_colab_link": true
    },
    "kernelspec": {
      "name": "python3",
      "display_name": "Python 3"
    }
  },
  "cells": [
    {
      "cell_type": "markdown",
      "metadata": {
        "id": "view-in-github",
        "colab_type": "text"
      },
      "source": [
        "<a href=\"https://colab.research.google.com/github/sabrina880505/Computation/blob/master/week16_A106260082.ipynb\" target=\"_parent\"><img src=\"https://colab.research.google.com/assets/colab-badge.svg\" alt=\"Open In Colab\"/></a>"
      ]
    },
    {
      "cell_type": "code",
      "metadata": {
        "id": "USmzAaDAnpOB",
        "colab_type": "code",
        "outputId": "537148e7-521c-470d-901e-d638968baa98",
        "colab": {
          "base_uri": "https://localhost:8080/",
          "height": 68
        }
      },
      "source": [
        "answer=\"Howard Zhang\"\n",
        "\n",
        "while True:\n",
        "  password=input(\"Enter your password?\")\n",
        "  if password== answer:\n",
        "    break\n",
        "  else:\n",
        "      print(\"Try Again!!\")\n"
      ],
      "execution_count": 0,
      "outputs": [
        {
          "output_type": "stream",
          "text": [
            "Enter your password?Sabrina\n",
            "Try Again!!\n",
            "Enter your password?Howard Zhang\n"
          ],
          "name": "stdout"
        }
      ]
    },
    {
      "cell_type": "code",
      "metadata": {
        "id": "j30-pSn3w67y",
        "colab_type": "code",
        "outputId": "21473369-78e8-4aec-976b-c578eecc2a83",
        "colab": {
          "base_uri": "https://localhost:8080/",
          "height": 119
        }
      },
      "source": [
        "while True:\n",
        " answer=input('請輸入您的帳號:')\n",
        " password=input('請輸入您的密碼:')\n",
        "\n",
        " if(answer =='I LOVE Howard Zhang' and password=='Howard Zhang'):\n",
        "    print('唉喲!是珍愛粉喔~')\n",
        "    break\n",
        " else:\n",
        "    print('三思而後行!!')\n"
      ],
      "execution_count": 3,
      "outputs": [
        {
          "output_type": "stream",
          "text": [
            "請輸入您的帳號:I LOVE Howard Zhang\n",
            "請輸入您的密碼:I LOVE Howard Zhang\n",
            "三思而後行!!\n",
            "請輸入您的帳號:I LOVE Howard Zhang\n",
            "請輸入您的密碼:Howard Zhang\n",
            "唉喲!是珍愛粉喔~\n"
          ],
          "name": "stdout"
        }
      ]
    },
    {
      "cell_type": "code",
      "metadata": {
        "id": "Sdfm88tB0avv",
        "colab_type": "code",
        "colab": {
          "base_uri": "https://localhost:8080/",
          "height": 204
        },
        "outputId": "6e4d555a-d299-4bb5-ff6e-66bdd667ad18"
      },
      "source": [
        "range(5)\n",
        "\n",
        "range(2,5)\n",
        "\n",
        "range(2,10,3)\n",
        "\n",
        "for i in range(5):\n",
        "  print(i)\n",
        "\n",
        "for i in range(2,5):\n",
        "  print(i)\n",
        "\n",
        "for i in range(2,10,3):\n",
        "  print(i)\n"
      ],
      "execution_count": 6,
      "outputs": [
        {
          "output_type": "stream",
          "text": [
            "0\n",
            "1\n",
            "2\n",
            "3\n",
            "4\n",
            "2\n",
            "3\n",
            "4\n",
            "2\n",
            "5\n",
            "8\n"
          ],
          "name": "stdout"
        }
      ]
    },
    {
      "cell_type": "code",
      "metadata": {
        "id": "lMgLmSRp4usn",
        "colab_type": "code",
        "colab": {
          "base_uri": "https://localhost:8080/",
          "height": 136
        },
        "outputId": "1569d5c9-0f98-4311-880d-9139d2f119da"
      },
      "source": [
        "start=int(input(\"Enter a number:\"))\n",
        "end=int(input(\"Enter a number:\"))\n",
        "step=int(input(\"Enter n number:\"))\n",
        "\n",
        "sum=0\n",
        "\n",
        "for i in range(start,end,step):\n",
        "  sum=sum+i\n",
        "  print(\"i is\",i,\"sum equals\",sum)\n",
        "\n"
      ],
      "execution_count": 10,
      "outputs": [
        {
          "output_type": "stream",
          "text": [
            "Enter a number:3\n",
            "Enter a number:13\n",
            "Enter n number:3\n",
            "i is 3 sum equals 3\n",
            "i is 6 sum equals 9\n",
            "i is 9 sum equals 18\n",
            "i is 12 sum equals 30\n"
          ],
          "name": "stdout"
        }
      ]
    },
    {
      "cell_type": "code",
      "metadata": {
        "id": "b06jlKqY8pDh",
        "colab_type": "code",
        "colab": {}
      },
      "source": [
        ""
      ],
      "execution_count": 0,
      "outputs": []
    }
  ]
}