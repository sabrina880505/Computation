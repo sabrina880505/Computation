{
  "nbformat": 4,
  "nbformat_minor": 0,
  "metadata": {
    "colab": {
      "name": "Week7-A106260082.ipynb",
      "provenance": [],
      "include_colab_link": true
    },
    "kernelspec": {
      "name": "python3",
      "display_name": "Python 3"
    }
  },
  "cells": [
    {
      "cell_type": "markdown",
      "metadata": {
        "id": "view-in-github",
        "colab_type": "text"
      },
      "source": [
        "<a href=\"https://colab.research.google.com/github/sabrina880505/Computation/blob/master/Week7_A106260082.ipynb\" target=\"_parent\"><img src=\"https://colab.research.google.com/assets/colab-badge.svg\" alt=\"Open In Colab\"/></a>"
      ]
    },
    {
      "cell_type": "code",
      "metadata": {
        "id": "MLqnqEzgKeqy",
        "colab_type": "code",
        "colab": {
          "base_uri": "https://localhost:8080/",
          "height": 153
        },
        "outputId": "53085dfb-7f8d-42fb-d682-028cef024015"
      },
      "source": [
        "s1='春眠不覺曉，處處聞啼鳥。'\n",
        "print(s1)\n",
        "\n",
        "s2='夜來風雨聲，花落知多少。'\n",
        "print(s2)\n",
        "\n",
        "s3='作者\"孟浩然\" 詩名\"春曉\"'\n",
        "print(s3)\n",
        "\n",
        "s4=\"作者'孟浩然' 詩名'春曉'\"\n",
        "print(s4)\n",
        "\n",
        "s5= '''   春眠不覺曉，處處聞啼鳥。\n",
        "   夜來風雨聲，花落知多少。\n",
        "   作者\"孟浩然\" 詩名\"春曉\"\n",
        "'''   \n",
        "   \n",
        "print(s5)   "
      ],
      "execution_count": 2,
      "outputs": [
        {
          "output_type": "stream",
          "text": [
            "春眠不覺曉，處處聞啼鳥。\n",
            "夜來風雨聲，花落知多少。\n",
            "作者\"孟浩然\" 詩名\"春曉\"\n",
            "作者'孟浩然' 詩名'春曉'\n",
            "   春眠不覺曉，處處聞啼鳥。\n",
            "   夜來風雨聲，花落知多少。\n",
            "   作者\"孟浩然\" 詩名\"春曉\"\n",
            "\n"
          ],
          "name": "stdout"
        }
      ]
    },
    {
      "cell_type": "code",
      "metadata": {
        "id": "TOerKlDWQD7i",
        "colab_type": "code",
        "colab": {
          "base_uri": "https://localhost:8080/",
          "height": 102
        },
        "outputId": "d0462e33-a0d2-43a8-8810-9cee952434cc"
      },
      "source": [
        "s1=\"123\"\n",
        "s2=\"456\" \n",
        "\n",
        "s3=s1 + s2\n",
        "print(s3)\n",
        "\n",
        "s4=s1 * 2\n",
        "print(s4)\n",
        "\n",
        "s5='春眠不覺曉，處處聞啼鳥。\\n\\\n",
        "夜來風雨聲，花落知多少。\\n\\\n",
        "\\t作者\"孟浩然\" 詩名\"春曉\"'\n",
        "print(s5)"
      ],
      "execution_count": 5,
      "outputs": [
        {
          "output_type": "stream",
          "text": [
            "123456\n",
            "123123\n",
            "春眠不覺曉，處處聞啼鳥。\n",
            "夜來風雨聲，花落知多少。\n",
            "\t作者\"孟浩然\" 詩名\"春曉\"\n"
          ],
          "name": "stdout"
        }
      ]
    },
    {
      "cell_type": "code",
      "metadata": {
        "id": "O0x9o_wkRWEV",
        "colab_type": "code",
        "colab": {
          "base_uri": "https://localhost:8080/",
          "height": 170
        },
        "outputId": "6b7082e9-ef45-4d6b-e85e-d0464f685b76"
      },
      "source": [
        "s='123456789'\n",
        "print(s[0])\n",
        "print(s[1])\n",
        "print(s[-1])\n",
        "print(s[-2])\n",
        "\n",
        "s='0123456789'\n",
        "print('s=',s)\n",
        "print('s[0]=',s[0])\n",
        "print('s[1]=',s[1])\n",
        "print('s[-1]=',s[-1])\n",
        "print('s[-2]=',s[-2])\n"
      ],
      "execution_count": 8,
      "outputs": [
        {
          "output_type": "stream",
          "text": [
            "1\n",
            "2\n",
            "9\n",
            "8\n",
            "s= 0123456789\n",
            "s[0]= 0\n",
            "s[1]= 1\n",
            "s[-1]= 9\n",
            "s[-2]= 8\n"
          ],
          "name": "stdout"
        }
      ]
    },
    {
      "cell_type": "code",
      "metadata": {
        "id": "PpkjVx-sSvQR",
        "colab_type": "code",
        "colab": {
          "base_uri": "https://localhost:8080/",
          "height": 204
        },
        "outputId": "e691849e-d292-4a8f-bccb-88329fab6b11"
      },
      "source": [
        "print('s=', s, 's[:]=', s[:]) \n",
        "\n",
        "print('s=', s, 's[5:]=', s[5:]) \n",
        "\n",
        "print('s=', s, 's[-2:]=', s[-2:])\n",
        "\n",
        "print('s=', s, 's[:5]=', s[:5]) \n",
        "\n",
        "print('s=', s, 's[:-2]=', s[:-2])\n",
        "\n",
        "print('s=', s, 's[7:9]=', s[7:9])\n",
        "\n",
        "print('s=', s, 's[-4:-1]=', s[-4:-1])\n",
        "\n",
        "print('s=', s, 's[5:-2]=', s[5:-2])\n",
        "\n",
        "print('s=', s, 's[2:10:2]=', s[2:10:2])\n",
        "\n",
        "print('s=', s, 's[::-1]=', s[::-1])\n",
        "\n",
        "print('s=', s, 's[-1::-1]=', s[-1::-1])"
      ],
      "execution_count": 9,
      "outputs": [
        {
          "output_type": "stream",
          "text": [
            "s= 0123456789 s[:]= 0123456789\n",
            "s= 0123456789 s[5:]= 56789\n",
            "s= 0123456789 s[-2:]= 89\n",
            "s= 0123456789 s[:5]= 01234\n",
            "s= 0123456789 s[:-2]= 01234567\n",
            "s= 0123456789 s[7:9]= 78\n",
            "s= 0123456789 s[-4:-1]= 678\n",
            "s= 0123456789 s[5:-2]= 567\n",
            "s= 0123456789 s[2:10:2]= 2468\n",
            "s= 0123456789 s[::-1]= 9876543210\n",
            "s= 0123456789 s[-1::-1]= 9876543210\n"
          ],
          "name": "stdout"
        }
      ]
    },
    {
      "cell_type": "code",
      "metadata": {
        "id": "pSTUlzv-VUik",
        "colab_type": "code",
        "colab": {
          "base_uri": "https://localhost:8080/",
          "height": 68
        },
        "outputId": "6563c25b-9d44-49cb-ef90-9f696494447b"
      },
      "source": [
        "s='長相思兮長相憶，短相思兮無窮極，早知如此絆人心，何如當初莫相識。'\n",
        "print(len(s))\n",
        "\n",
        "s1='長相思兮長相憶，短相思兮無窮極，早知如此絆人心，何如當初莫相識。'\n",
        "list1=s1.split('，')\n",
        "print(list1)\n",
        "\n",
        "list1=['長相思兮長相憶','短相思兮無窮極','早知如此絆人心','何如當初莫相識。']\n",
        "s2='，'.join(list2)\n",
        "print(s2)"
      ],
      "execution_count": 14,
      "outputs": [
        {
          "output_type": "stream",
          "text": [
            "32\n",
            "['長相思兮長相憶', '短相思兮無窮極', '早知如此絆人心', '何如當初莫相識。']\n",
            "長相思兮長相憶，短相思兮無窮極，早知如此絆人心，何如當初莫相識\n"
          ],
          "name": "stdout"
        }
      ]
    },
    {
      "cell_type": "code",
      "metadata": {
        "id": "I_9FPUeeYYyC",
        "colab_type": "code",
        "colab": {
          "base_uri": "https://localhost:8080/",
          "height": 68
        },
        "outputId": "1d319c9e-4a7e-41ef-a3b8-1c66641e222b"
      },
      "source": [
        "s1='長相思兮長相憶，短相思兮無窮極，早知如此絆人心，何如當初莫相識。'\n",
        "\n",
        "print(s1.find('當初'))\n",
        "print(s1.count('兮'))\n",
        "\n",
        "s3=s1.replace('莫','要')\n",
        "print(s3)"
      ],
      "execution_count": 17,
      "outputs": [
        {
          "output_type": "stream",
          "text": [
            "26\n",
            "2\n",
            "長相思兮長相憶，短相思兮無窮極，早知如此絆人心，何如當初要相識。\n"
          ],
          "name": "stdout"
        }
      ]
    },
    {
      "cell_type": "code",
      "metadata": {
        "id": "IyLVslPQZqVN",
        "colab_type": "code",
        "colab": {
          "base_uri": "https://localhost:8080/",
          "height": 102
        },
        "outputId": "ae480259-5b23-4a4b-b0d5-fa253a733a01"
      },
      "source": [
        "s1='An apple a day.'\n",
        "\n",
        "print(s1.capitalize())\n",
        "\n",
        "print(s1.title())\n",
        "\n",
        "print(s1.swapcase())\n",
        "\n",
        "print(s1.upper())\n",
        "\n",
        "print(s1.lower())"
      ],
      "execution_count": 18,
      "outputs": [
        {
          "output_type": "stream",
          "text": [
            "An apple a day.\n",
            "An Apple A Day.\n",
            "aN APPLE A DAY.\n",
            "AN APPLE A DAY.\n",
            "an apple a day.\n"
          ],
          "name": "stdout"
        }
      ]
    },
    {
      "cell_type": "code",
      "metadata": {
        "id": "cH02LjFbaA8q",
        "colab_type": "code",
        "colab": {
          "base_uri": "https://localhost:8080/",
          "height": 170
        },
        "outputId": "c6e6e28e-228f-4c7b-db9e-9f10ef8f80ab"
      },
      "source": [
        "s1='長相思兮長相憶，短相思兮無窮極，早知如此絆人心，何如當初莫相識。'\n",
        "print(s1.startswith('長相'))\n",
        "print(s1.endswith('相識。'))\n",
        "\n",
        "s1='長相思兮長相憶'\n",
        "print(s1.center(10))\n",
        "print(s1.rjust(10))\n",
        "print(s1.ljust(10))\n",
        "\n",
        "s1='123'\n",
        "print(s1.zfill(5))\n",
        "\n",
        "s1=' Hello,Sabrina. '\n",
        "print(s1.strip())\n",
        "print(s1.lstrip(' S'))\n",
        "print(s1.rstrip(' .'))"
      ],
      "execution_count": 22,
      "outputs": [
        {
          "output_type": "stream",
          "text": [
            "True\n",
            "True\n",
            " 長相思兮長相憶  \n",
            "   長相思兮長相憶\n",
            "長相思兮長相憶   \n",
            "00123\n",
            "Hello,Sabrina.\n",
            "Hello,Sabrina. \n",
            " Hello,Sabrina\n"
          ],
          "name": "stdout"
        }
      ]
    },
    {
      "cell_type": "code",
      "metadata": {
        "id": "lkqtp4A4cGBA",
        "colab_type": "code",
        "colab": {
          "base_uri": "https://localhost:8080/",
          "height": 119
        },
        "outputId": "3fd68c97-bd7f-49dc-a136-b92ddaee9047"
      },
      "source": [
        "t1 = ()\n",
        "print(t1)\n",
        "\n",
        "t2 = 1, 2 ,3 \n",
        "print(t2)\n",
        "\n",
        "t3 = (1, 2, 3) \n",
        "print(t3)\n",
        "\n",
        "list1=[1,2,3,4] \n",
        "t4 = tuple(list1) \n",
        "print(t4)\n",
        "\n",
        "t4 = (1,2,3,4) \n",
        "t5 = (t4,5,6)\n",
        "print(t5)\n",
        "\n",
        "t6 = ('z', ) \n",
        "print(t6)"
      ],
      "execution_count": 23,
      "outputs": [
        {
          "output_type": "stream",
          "text": [
            "()\n",
            "(1, 2, 3)\n",
            "(1, 2, 3)\n",
            "(1, 2, 3, 4)\n",
            "((1, 2, 3, 4), 5, 6)\n",
            "('z',)\n"
          ],
          "name": "stdout"
        }
      ]
    },
    {
      "cell_type": "code",
      "metadata": {
        "id": "oTeH5cM2gjpf",
        "colab_type": "code",
        "colab": {
          "base_uri": "https://localhost:8080/",
          "height": 68
        },
        "outputId": "7059cf94-1ba1-4f2d-bd61-c85512a6caac"
      },
      "source": [
        "t3 = (1, 2, 3)\n",
        "print(t3[0]) \n",
        "\n",
        "t4 = (1,2,3,4)\n",
        "t5 = (t4,5,6)\n",
        "print(len(t5))\n",
        "print(t5[0][0])"
      ],
      "execution_count": 24,
      "outputs": [
        {
          "output_type": "stream",
          "text": [
            "1\n",
            "3\n",
            "1\n"
          ],
          "name": "stdout"
        }
      ]
    },
    {
      "cell_type": "code",
      "metadata": {
        "id": "XeQoooQWgtxl",
        "colab_type": "code",
        "colab": {
          "base_uri": "https://localhost:8080/",
          "height": 68
        },
        "outputId": "6715e098-edd0-4881-c9db-1fe8c17a76e9"
      },
      "source": [
        "t3 = (1, 2, 3)\n",
        "a, b, c = t3\n",
        "print('a =', a, ',b =', b, ',c =', c)\n",
        "\n",
        "a = 10\n",
        "b = 20\n",
        "print('交換前','a =', a, ',b =', b)\n",
        "a, b = b, a\n",
        "print('交換後','a =', a, ',b =', b)"
      ],
      "execution_count": 25,
      "outputs": [
        {
          "output_type": "stream",
          "text": [
            "a = 1 ,b = 2 ,c = 3\n",
            "交換前 a = 10 ,b = 20\n",
            "交換後 a = 20 ,b = 10\n"
          ],
          "name": "stdout"
        }
      ]
    },
    {
      "cell_type": "code",
      "metadata": {
        "id": "TL6JWaglgy0a",
        "colab_type": "code",
        "colab": {
          "base_uri": "https://localhost:8080/",
          "height": 119
        },
        "outputId": "d1c61066-dcdd-46b6-8791-0a566f2ea7bd"
      },
      "source": [
        "shoplist = ['牛奶', '蛋', '咖啡豆', '西瓜', '鳳梨']\n",
        "print('購物清單shoplist為')\n",
        "print(shoplist)\n",
        "\n",
        "listm = [1, 2.0, 'Python']\n",
        "print(\"串列可以包含各種資料型別的元素\")\n",
        "print(listm)\n",
        "\n",
        "list1 = list('python')\n",
        "print(list1) \n",
        "tuple2 = ('a', 'b', 1, 2)\n",
        "list2 = list(tuple2) \n",
        "print(list2)"
      ],
      "execution_count": 26,
      "outputs": [
        {
          "output_type": "stream",
          "text": [
            "購物清單shoplist為\n",
            "['牛奶', '蛋', '咖啡豆', '西瓜', '鳳梨']\n",
            "串列可以包含各種資料型別的元素\n",
            "[1, 2.0, 'Python']\n",
            "['p', 'y', 't', 'h', 'o', 'n']\n",
            "['a', 'b', 1, 2]\n"
          ],
          "name": "stdout"
        }
      ]
    },
    {
      "cell_type": "code",
      "metadata": {
        "id": "LKHZk8Mng6Ye",
        "colab_type": "code",
        "colab": {
          "base_uri": "https://localhost:8080/",
          "height": 51
        },
        "outputId": "05897f3b-7d07-433d-b6c0-0378b67ccb57"
      },
      "source": [
        "shoplist = ['牛奶', '蛋', '咖啡豆', '西瓜', '鳳梨']\n",
        "print('購物清單shoplist的長度為', len(shoplist)) \n",
        "\n",
        "\n",
        "shoplist1 = ['牛奶', '蛋', '咖啡豆']\n",
        "shoplist2 = ['西瓜', '鳳梨']\n",
        "shoplist_all = shoplist1 + shoplist2 \n",
        "print(shoplist_all)"
      ],
      "execution_count": 27,
      "outputs": [
        {
          "output_type": "stream",
          "text": [
            "購物清單shoplist的長度為 5\n",
            "['牛奶', '蛋', '咖啡豆', '西瓜', '鳳梨']\n"
          ],
          "name": "stdout"
        }
      ]
    },
    {
      "cell_type": "code",
      "metadata": {
        "id": "0BLvJp-KhGKQ",
        "colab_type": "code",
        "colab": {
          "base_uri": "https://localhost:8080/",
          "height": 340
        },
        "outputId": "7038fcdd-a6cb-42a3-bbde-27051ca779ab"
      },
      "source": [
        "shoplist = ['牛奶', '蛋', '咖啡豆', '西瓜', '鳳梨']\n",
        "\n",
        "\n",
        "print('顯示shoplist[0]為',shoplist[0])\n",
        "index=shoplist.index('咖啡豆') \n",
        "print(\"執行 index=shoplist.index('咖啡豆') 後\")\n",
        "print('index=', index)\n",
        "\n",
        "\n",
        "shoplist[1] = '皮蛋'\n",
        "print(\"執行 shoplist[1] = '皮蛋' 後\")\n",
        "print(shoplist)\n",
        "\n",
        "\n",
        "a = list('abcdefghijk')\n",
        "print('a[:]為', a[:])\n",
        "print('a[:5]為', a[:5])\n",
        "print('a[5:]為', a[5:])\n",
        "print('a[:-5]為', a[:-5])\n",
        "print('a[-5:]為', a[-5:])\n",
        "print('a[0:4]為', a[0:4])\n",
        "print('a[-5:-3]為', a[-5:-3])\n",
        "print('a[1:10:3]為', a[1:10:3])\n",
        "print('a[-1:-4:-1]為', a[-1:-4:-1])\n",
        "print('a[::-1]為', a[::-1])\n",
        "\n",
        "shoplist = ['milk', 'egg', 'coffee', 'watermelon']\n",
        "for item in shoplist:\n",
        "    print(item)"
      ],
      "execution_count": 32,
      "outputs": [
        {
          "output_type": "stream",
          "text": [
            "顯示shoplist[0]為 牛奶\n",
            "執行 index=shoplist.index('咖啡豆') 後\n",
            "index= 2\n",
            "執行 shoplist[1] = '皮蛋' 後\n",
            "['牛奶', '皮蛋', '咖啡豆', '西瓜', '鳳梨']\n",
            "a[:]為 ['a', 'b', 'c', 'd', 'e', 'f', 'g', 'h', 'i', 'j', 'k']\n",
            "a[:5]為 ['a', 'b', 'c', 'd', 'e']\n",
            "a[5:]為 ['f', 'g', 'h', 'i', 'j', 'k']\n",
            "a[:-5]為 ['a', 'b', 'c', 'd', 'e', 'f']\n",
            "a[-5:]為 ['g', 'h', 'i', 'j', 'k']\n",
            "a[0:4]為 ['a', 'b', 'c', 'd']\n",
            "a[-5:-3]為 ['g', 'h']\n",
            "a[1:10:3]為 ['b', 'e', 'h']\n",
            "a[-1:-4:-1]為 ['k', 'j', 'i']\n",
            "a[::-1]為 ['k', 'j', 'i', 'h', 'g', 'f', 'e', 'd', 'c', 'b', 'a']\n",
            "milk\n",
            "egg\n",
            "coffee\n",
            "watermelon\n"
          ],
          "name": "stdout"
        }
      ]
    },
    {
      "cell_type": "code",
      "metadata": {
        "id": "gsCvC352haEX",
        "colab_type": "code",
        "colab": {
          "base_uri": "https://localhost:8080/",
          "height": 289
        },
        "outputId": "9fff6cf5-50f2-447b-f203-6cfa6f192be6"
      },
      "source": [
        "shoplist = ['牛奶', '蛋', '咖啡豆', '西瓜', '鳳梨']\n",
        "shoplist.append('麵包') \n",
        "print(\"執行 shoplist.append('麵包')後\")\n",
        "print(shoplist)\n",
        "\n",
        "shoplist.insert(4, '蘋果') \n",
        "print(\"執行 shoplist.insert(4, '蘋果') 後\")\n",
        "print(shoplist)\n",
        "\n",
        "shoplist.remove('蛋') \n",
        "print(\"執行 shoplist.remove('蛋') 後\")\n",
        "print(shoplist)\n",
        "del shoplist[0] \n",
        "print(\"執行 del shoplist[0] 後\")\n",
        "print(shoplist)\n",
        "\n",
        "shoplist.pop(0) \n",
        "print(\"執行 shoplist.pop(0) 後\")\n",
        "print(shoplist)\n",
        "\n",
        "shoplist.pop() \n",
        "print(\"執行 shoplist.pop() 後\")\n",
        "print(shoplist)\n",
        "\n",
        "shoplist.pop(-1) \n",
        "print(\"執行 shoplist.pop(-1) 後\")\n",
        "print(shoplist)\n",
        "\n",
        "shoplist = ['milk', 'egg', 'coffee', 'watermelon']\n",
        "shoplist.sort() \n",
        "print(\"執行 shoplist.sort() 後\")\n",
        "print(shoplist)"
      ],
      "execution_count": 33,
      "outputs": [
        {
          "output_type": "stream",
          "text": [
            "執行 shoplist.append('麵包')後\n",
            "['牛奶', '蛋', '咖啡豆', '西瓜', '鳳梨', '麵包']\n",
            "執行 shoplist.insert(4, '蘋果') 後\n",
            "['牛奶', '蛋', '咖啡豆', '西瓜', '蘋果', '鳳梨', '麵包']\n",
            "執行 shoplist.remove('蛋') 後\n",
            "['牛奶', '咖啡豆', '西瓜', '蘋果', '鳳梨', '麵包']\n",
            "執行 del shoplist[0] 後\n",
            "['咖啡豆', '西瓜', '蘋果', '鳳梨', '麵包']\n",
            "執行 shoplist.pop(0) 後\n",
            "['西瓜', '蘋果', '鳳梨', '麵包']\n",
            "執行 shoplist.pop() 後\n",
            "['西瓜', '蘋果', '鳳梨']\n",
            "執行 shoplist.pop(-1) 後\n",
            "['西瓜', '蘋果']\n",
            "執行 shoplist.sort() 後\n",
            "['coffee', 'egg', 'milk', 'watermelon']\n"
          ],
          "name": "stdout"
        }
      ]
    },
    {
      "cell_type": "code",
      "metadata": {
        "id": "Q4buv_ZIh4Ur",
        "colab_type": "code",
        "colab": {}
      },
      "source": [
        ""
      ],
      "execution_count": 0,
      "outputs": []
    }
  ]
}